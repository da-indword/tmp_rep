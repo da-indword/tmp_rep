{
 "cells": [
  {
   "cell_type": "code",
   "execution_count": null,
   "metadata": {},
   "outputs": [],
   "source": [
    "import ipywidgets as widgets\n",
    "from IPython.display import display, update_display, HTML\n",
    "from ipywidgets import interact, interactive, Layout\n",
    "from ipyevents import Event\n",
    "\n",
    "# %run jips_colors\n",
    "# %run jips_styles\n",
    "%run jips_not_widgets.ipynb\n",
    "\n",
    "# Единый output для всех виджетов\n",
    "# output_for_all = widgets.Output()\n",
    "# with output_for_all:\n",
    "#     display(HTML(css_styles))\n",
    "# display(output_for_all)\n",
    "\n",
    "films = [    \n",
    "    'Бриллиантовая рука', \n",
    "    'Кавказская пленница, или Новые приключения Шурика', \n",
    "    'Карты, деньги, два ствола', \n",
    "    'Большой куш', \n",
    "]\n",
    "\n",
    "films_select = widgets.SelectMultiple(\n",
    "        options=films,\n",
    "        value=(), \n",
    "        # _dom_classes = ['select-style', 'option-select-style', 'all_widgets'],     \n",
    "        rows=len(films),\n",
    "        layout=Layout(width='80%'),\n",
    "        disabled=False,    \n",
    ")\n",
    "\n",
    "display(films_select)\n"
   ]
  }
 ],
 "metadata": {
  "language_info": {
   "name": "python"
  }
 },
 "nbformat": 4,
 "nbformat_minor": 2
}
